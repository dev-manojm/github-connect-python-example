{
 "cells": [
  {
   "cell_type": "code",
   "execution_count": null,
   "metadata": {},
   "outputs": [],
   "source": [
    "!pip install validators svn"
   ]
  },
  {
   "cell_type": "code",
   "execution_count": null,
   "metadata": {},
   "outputs": [],
   "source": [
    "from github import Github\n",
    "import validators\n",
    "from svn.remote import RemoteClient"
   ]
  },
  {
   "cell_type": "code",
   "execution_count": null,
   "metadata": {},
   "outputs": [],
   "source": [
    "g = Github('API token')"
   ]
  },
  {
   "cell_type": "code",
   "execution_count": null,
   "metadata": {},
   "outputs": [],
   "source": [
    "repositories = g.search_repositories(query='language:python')\n",
    "for repo in repositories[:10]:\n",
    "    print(repo)"
   ]
  },
  {
   "cell_type": "code",
   "execution_count": null,
   "metadata": {},
   "outputs": [],
   "source": [
    "repositories = g.search_repositories(query='good-first-issues:>3')\n",
    "for repo in repositories[:10]:\n",
    "    print(repo)"
   ]
  },
  {
   "cell_type": "code",
   "execution_count": null,
   "metadata": {},
   "outputs": [],
   "source": [
    "def search_github(keywords):\n",
    "    query = '+'.join(keywords) + '+in:readme+in:description'\n",
    "    result = g.search_repositories(query, 'stars', 'desc')\n",
    " \n",
    "    print(f'Found {result.totalCount} repo(s)')\n",
    " \n",
    "    for repo in result[:5]:\n",
    "        print(f'{repo.clone_url}, {repo.stargazers_count} stars')\n",
    "\n",
    "keywords = input('Enter keyword(s)[e.g python, flask, postgres]: ')\n",
    "keywords = [keyword.strip() for keyword in keywords.split(',')]\n",
    "search_github(keywords)"
   ]
  },
  {
   "cell_type": "code",
   "execution_count": null,
   "metadata": {},
   "outputs": [],
   "source": [
    "user = g.get_user()\n",
    "username=user.login\n",
    "userfullname=user.name\n",
    "print(username, userfullname)"
   ]
  },
  {
   "cell_type": "code",
   "execution_count": null,
   "metadata": {},
   "outputs": [],
   "source": [
    "repos=g.get_user().get_repos()\n",
    "for r in repos:\n",
    "    print (r)"
   ]
  },
  {
   "cell_type": "code",
   "execution_count": null,
   "metadata": {},
   "outputs": [],
   "source": [
    "repo = g.get_repo(\"PyGithub/PyGithub\")\n",
    "repo.get_topics()"
   ]
  },
  {
   "cell_type": "code",
   "execution_count": null,
   "metadata": {},
   "outputs": [],
   "source": [
    "#get count of stars\n",
    "repo.stargazers_count"
   ]
  },
  {
   "cell_type": "code",
   "execution_count": null,
   "metadata": {},
   "outputs": [],
   "source": [
    "#Get list of open issues\n",
    "open_issues = repo.get_issues(state='open')\n",
    "#print using loop\n",
    "for issue in open_issues[:3]:\n",
    "    print(issue)"
   ]
  },
  {
   "cell_type": "code",
   "execution_count": null,
   "metadata": {},
   "outputs": [],
   "source": [
    "#Get all the labels of the repository\n",
    "labels = repo.get_labels()\n",
    "for label in labels[:3]:\n",
    "    print(label)"
   ]
  },
  {
   "cell_type": "code",
   "execution_count": null,
   "metadata": {},
   "outputs": [],
   "source": [
    "#Get all of the contents of the root directory of the repository\n",
    "contents = repo.get_contents(\"\")\n",
    "for content_file in contents[:3]:\n",
    "    print(content_file)"
   ]
  },
  {
   "cell_type": "code",
   "execution_count": null,
   "metadata": {},
   "outputs": [],
   "source": [
    "#Get a specific content file\n",
    "contents = repo.get_contents(\"README.md\")\n",
    "print(contents)"
   ]
  },
  {
   "cell_type": "code",
   "execution_count": null,
   "metadata": {},
   "outputs": [],
   "source": [
    "#Create a new file in the repository\n",
    "repo = g.get_repo(\"dev-manojm/jenkins-connect-exapmle\")\n",
    "repo.create_file(\"test.txt\", \"test\", \"test\", branch=\"master\")"
   ]
  },
  {
   "cell_type": "code",
   "execution_count": null,
   "metadata": {},
   "outputs": [],
   "source": [
    "#Update a file in the repository\n",
    "contents = repo.get_contents(\"test.txt\", ref=\"master\")\n",
    "repo.update_file(contents.path, \"more tests\", \"more tests\", contents.sha, branch=\"master\")"
   ]
  },
  {
   "cell_type": "code",
   "execution_count": null,
   "metadata": {},
   "outputs": [],
   "source": [
    "#Delete a file in the repository\n",
    "contents = repo.get_contents(\"test.txt\", ref=\"master\")\n",
    "repo.delete_file(contents.path, \"remove test\", contents.sha, branch=\"master\")"
   ]
  },
  {
   "cell_type": "code",
   "execution_count": null,
   "metadata": {},
   "outputs": [],
   "source": [
    "#Get number of clones and breakdown for the last 14 days\n",
    "contents = repo.get_clones_traffic()\n",
    "contents = repo.get_clones_traffic(per=\"week\")\n",
    "print(contents)"
   ]
  },
  {
   "cell_type": "code",
   "execution_count": null,
   "metadata": {},
   "outputs": [],
   "source": [
    "#Mark the notifications of the repository as read\n",
    "repo.mark_notifications_as_read()"
   ]
  },
  {
   "cell_type": "code",
   "execution_count": null,
   "metadata": {},
   "outputs": [],
   "source": [
    "#Get list of branches\n",
    "list(repo.get_branches())"
   ]
  },
  {
   "cell_type": "code",
   "execution_count": null,
   "metadata": {},
   "outputs": [],
   "source": [
    "#Get a branch\n",
    "repo.get_branch(branch=\"master\")"
   ]
  },
  {
   "cell_type": "code",
   "execution_count": null,
   "metadata": {},
   "outputs": [],
   "source": [
    "#Get HEAD commit of a branch\n",
    "branch = g.get_repo(\"dev-manojm/jenkins-connect-exapmle\").get_branch(\"master\")\n",
    "branch.commit"
   ]
  },
  {
   "cell_type": "code",
   "execution_count": null,
   "metadata": {},
   "outputs": [],
   "source": [
    "#See required status checks of a branch\n",
    "branch.get_required_status_checks()"
   ]
  },
  {
   "cell_type": "code",
   "execution_count": null,
   "metadata": {},
   "outputs": [],
   "source": [
    "#Create commit status check\n",
    "repo.get_commit(sha=\"3b7eb8b0775ecced7b56a4cc9f84cc40113beff3\").create_status(\n",
    "    state=\"pending\",\n",
    "    target_url=\"https://FooCI.com\",\n",
    "    description=\"FooCI is building\",\n",
    "    context=\"ci/FooCI\"\n",
    ")"
   ]
  },
  {
   "cell_type": "code",
   "execution_count": null,
   "metadata": {},
   "outputs": [],
   "source": [
    "#Get commit date\n",
    "commit = repo.get_commit(sha=\"3b7eb8b0775ecced7b56a4cc9f84cc40113beff3\")\n",
    "print(commit.commit.author.date)\n",
    "print(commit.commit.committer.date)\n"
   ]
  },
  {
   "cell_type": "code",
   "execution_count": null,
   "metadata": {},
   "outputs": [],
   "source": [
    "#Get issue\n",
    "repo = g.get_repo(\"PyGithub/PyGithub\")\n",
    "repo.get_issue(number=874)"
   ]
  },
  {
   "cell_type": "code",
   "execution_count": null,
   "metadata": {},
   "outputs": [],
   "source": [
    "#Create Issue\n",
    "repo = g.get_repo(\"PyGithub/PyGithub\")\n",
    "repo.create_issue(title=\"This is a new issue\")"
   ]
  },
  {
   "cell_type": "code",
   "execution_count": null,
   "metadata": {},
   "outputs": [],
   "source": []
  }
 ],
 "metadata": {
  "kernelspec": {
   "display_name": "Python 3",
   "language": "python",
   "name": "python3"
  },
  "language_info": {
   "codemirror_mode": {
    "name": "ipython",
    "version": 3
   },
   "file_extension": ".py",
   "mimetype": "text/x-python",
   "name": "python",
   "nbconvert_exporter": "python",
   "pygments_lexer": "ipython3",
   "version": "3.7.6"
  }
 },
 "nbformat": 4,
 "nbformat_minor": 4
}
